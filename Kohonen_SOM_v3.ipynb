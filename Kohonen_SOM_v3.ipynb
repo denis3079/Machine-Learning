{
  "nbformat": 4,
  "nbformat_minor": 0,
  "metadata": {
    "colab": {
      "name": "Kohonen_SOM_v3.ipynb",
      "provenance": [],
      "collapsed_sections": [],
      "include_colab_link": true
    },
    "kernelspec": {
      "name": "python3",
      "display_name": "Python 3"
    }
  },
  "cells": [
    {
      "cell_type": "markdown",
      "metadata": {
        "id": "view-in-github",
        "colab_type": "text"
      },
      "source": [
        "<a href=\"https://colab.research.google.com/github/denis3079/Machine-Learning/blob/master/Kohonen_SOM_v3.ipynb\" target=\"_parent\"><img src=\"https://colab.research.google.com/assets/colab-badge.svg\" alt=\"Open In Colab\"/></a>"
      ]
    },
    {
      "cell_type": "markdown",
      "metadata": {
        "id": "KDHe_KmttpGS",
        "colab_type": "text"
      },
      "source": [
        "Монтирование образа Google drive "
      ]
    },
    {
      "cell_type": "code",
      "metadata": {
        "id": "26ED5nOgewRU",
        "colab_type": "code",
        "outputId": "dffb726a-afc4-478f-fc19-221b7eee63de",
        "colab": {
          "base_uri": "https://localhost:8080/",
          "height": 34
        }
      },
      "source": [
        "from google.colab import drive\n",
        "drive.mount('/content/drive')"
      ],
      "execution_count": 0,
      "outputs": [
        {
          "output_type": "stream",
          "text": [
            "Drive already mounted at /content/drive; to attempt to forcibly remount, call drive.mount(\"/content/drive\", force_remount=True).\n"
          ],
          "name": "stdout"
        }
      ]
    },
    {
      "cell_type": "markdown",
      "metadata": {
        "id": "Aq5XFtMZtgdF",
        "colab_type": "text"
      },
      "source": [
        "Установка библиотеки Minisom "
      ]
    },
    {
      "cell_type": "code",
      "metadata": {
        "id": "DU9gRtSTQj1s",
        "colab_type": "code",
        "outputId": "258fad94-2c07-4d3c-a704-ab55479c40c8",
        "colab": {
          "base_uri": "https://localhost:8080/",
          "height": 188
        },
        "cellView": "form"
      },
      "source": [
        "#@title\n",
        "pip install minisom"
      ],
      "execution_count": 0,
      "outputs": [
        {
          "output_type": "stream",
          "text": [
            "Collecting minisom\n",
            "  Downloading https://files.pythonhosted.org/packages/10/17/88e894b68c062f6917e77a657927c9199b63d24ebbd0c34682816d3c770d/MiniSom-2.2.5.tar.gz\n",
            "Building wheels for collected packages: minisom\n",
            "  Building wheel for minisom (setup.py) ... \u001b[?25l\u001b[?25hdone\n",
            "  Created wheel for minisom: filename=MiniSom-2.2.5-cp36-none-any.whl size=8474 sha256=d0b3b593e38cfe860db54ef2fbc4e1ea7e905645dd05e8475d4e3d9f6d797184\n",
            "  Stored in directory: /root/.cache/pip/wheels/39/5b/16/cc9402ffc58cafb1da6997e5c94b1bde65e8cb214907879fd4\n",
            "Successfully built minisom\n",
            "Installing collected packages: minisom\n",
            "Successfully installed minisom-2.2.5\n"
          ],
          "name": "stdout"
        }
      ]
    },
    {
      "cell_type": "code",
      "metadata": {
        "id": "pP942WU9G4p0",
        "colab_type": "code",
        "outputId": "80679f29-25ad-4b3c-c3a5-479e5e23d932",
        "colab": {
          "base_uri": "https://localhost:8080/",
          "height": 54
        }
      },
      "source": [
        "import matplotlib.cm\n",
        "print(matplotlib.cm.cmap_d.keys())"
      ],
      "execution_count": 0,
      "outputs": [
        {
          "output_type": "stream",
          "text": [
            "dict_keys(['magma', 'inferno', 'plasma', 'viridis', 'cividis', 'twilight', 'twilight_shifted', 'Blues', 'BrBG', 'BuGn', 'BuPu', 'CMRmap', 'GnBu', 'Greens', 'Greys', 'OrRd', 'Oranges', 'PRGn', 'PiYG', 'PuBu', 'PuBuGn', 'PuOr', 'PuRd', 'Purples', 'RdBu', 'RdGy', 'RdPu', 'RdYlBu', 'RdYlGn', 'Reds', 'Spectral', 'Wistia', 'YlGn', 'YlGnBu', 'YlOrBr', 'YlOrRd', 'afmhot', 'autumn', 'binary', 'bone', 'brg', 'bwr', 'cool', 'coolwarm', 'copper', 'cubehelix', 'flag', 'gist_earth', 'gist_gray', 'gist_heat', 'gist_ncar', 'gist_rainbow', 'gist_stern', 'gist_yarg', 'gnuplot', 'gnuplot2', 'gray', 'hot', 'hsv', 'jet', 'nipy_spectral', 'ocean', 'pink', 'prism', 'rainbow', 'seismic', 'spring', 'summer', 'terrain', 'winter', 'Accent', 'Dark2', 'Paired', 'Pastel1', 'Pastel2', 'Set1', 'Set2', 'Set3', 'tab10', 'tab20', 'tab20b', 'tab20c', 'magma_r', 'inferno_r', 'plasma_r', 'viridis_r', 'cividis_r', 'twilight_r', 'twilight_shifted_r', 'Blues_r', 'BrBG_r', 'BuGn_r', 'BuPu_r', 'CMRmap_r', 'GnBu_r', 'Greens_r', 'Greys_r', 'OrRd_r', 'Oranges_r', 'PRGn_r', 'PiYG_r', 'PuBu_r', 'PuBuGn_r', 'PuOr_r', 'PuRd_r', 'Purples_r', 'RdBu_r', 'RdGy_r', 'RdPu_r', 'RdYlBu_r', 'RdYlGn_r', 'Reds_r', 'Spectral_r', 'Wistia_r', 'YlGn_r', 'YlGnBu_r', 'YlOrBr_r', 'YlOrRd_r', 'afmhot_r', 'autumn_r', 'binary_r', 'bone_r', 'brg_r', 'bwr_r', 'cool_r', 'coolwarm_r', 'copper_r', 'cubehelix_r', 'flag_r', 'gist_earth_r', 'gist_gray_r', 'gist_heat_r', 'gist_ncar_r', 'gist_rainbow_r', 'gist_stern_r', 'gist_yarg_r', 'gnuplot_r', 'gnuplot2_r', 'gray_r', 'hot_r', 'hsv_r', 'jet_r', 'nipy_spectral_r', 'ocean_r', 'pink_r', 'prism_r', 'rainbow_r', 'seismic_r', 'spring_r', 'summer_r', 'terrain_r', 'winter_r', 'Accent_r', 'Dark2_r', 'Paired_r', 'Pastel1_r', 'Pastel2_r', 'Set1_r', 'Set2_r', 'Set3_r', 'tab10_r', 'tab20_r', 'tab20b_r', 'tab20c_r'])\n"
          ],
          "name": "stdout"
        }
      ]
    },
    {
      "cell_type": "markdown",
      "metadata": {
        "id": "65nXxAiwnAKo",
        "colab_type": "text"
      },
      "source": [
        "Построение самоорганизующейся карты Кохонена"
      ]
    },
    {
      "cell_type": "code",
      "metadata": {
        "id": "xq85Wd5lO2Fm",
        "colab_type": "code",
        "colab": {
          "base_uri": "https://localhost:8080/",
          "height": 516
        },
        "outputId": "f384f77f-452e-4fa8-bf5e-fb1f73c16b9a"
      },
      "source": [
        "import numpy as np\n",
        "import matplotlib.pyplot as plt\n",
        "from minisom import MiniSom\n",
        "from matplotlib.gridspec import GridSpec\n",
        "# чтение набора данных в формате csv\n",
        "data = np.genfromtxt('/content/drive/My Drive/dataset.csv', delimiter=',', usecols=(1, 2, 3, 4, 5, 6, 7, 8))\n",
        "# нормализация до единства каждого паттерна в данных\n",
        "data = np.apply_along_axis(lambda x: x/np.linalg.norm(x), 1, data)\n",
        "# Инициализация и обучение\n",
        "som = MiniSom(2, 2, 8, sigma=1., learning_rate=.7, activation_distance='euclidean', topology='rectangular', neighborhood_function='triangle', random_seed=10)\n",
        "som.pca_weights_init(data)\n",
        "print(\"Обучение...\")\n",
        "som.train_batch(data, 1000, verbose=True)  # обучение с 1000-ю итерациями\n",
        "print(\"\\n...готово!\")\n",
        "# размер самоорганизующейся карты Кохонена в дюймах\n",
        "plt.figure(figsize=(7, 7))\n",
        "# Построение карты расстояний для каждого кластера в наборе данных\n",
        "plt.pcolor(som.distance_map().T, cmap='tab20c_r')\n",
        "plt.colorbar()\n",
        "# чтение набора данных в формате csv\n",
        "target = np.genfromtxt('/content/drive/My Drive/dataset.csv', delimiter=',', usecols=(8), dtype=str)\n",
        "# функция возвращает новый массив указанной формы и типа, заполненный нулями\n",
        "t = np.zeros(len(target), dtype=int)\n",
        "t[target == 'AverageSpeed'] = 1\n",
        "t[target == 'CountN_Speed'] = 2\n",
        "t[target == 'CountN_PickAcceleration'] = 3\n",
        "t[target == 'AveragePickAcceleration'] = 4\n",
        "t[target == 'CountN_BackAcceleration'] = 5\n",
        "t[target == 'AverageBackAcceleration'] = 6\n",
        "t[target == 'CountN_LeftRightAcceleration'] = 7\n",
        "t[target == 'AverageLeftRightAcceleration'] = 8\n",
        "# использование разных маркеров и цветов для каждого входящего нейрона\n",
        "markers = ['+', '0', '3', '4', '5', '6', '7', '8'] \n",
        "colors = [\"r\", \"g\", \"b\", \"y\", \"o\", \"a\", \"v\", \"l\"]\n",
        "for cnt, xx in enumerate(data): w = som.winner(xx)  # получение победителя\n",
        "# разместим маркер на выигрышной позиции для образца хх\n",
        "plt.plot(w[0]+.5, w[1]+.5, markers[t[cnt]], markerfacecolor='None', markeredgecolor=colors[t[cnt]], markersize=18, markeredgewidth=4)\n",
        "plt.axis([0, 2, 0, 2])\n",
        "plt.show()"
      ],
      "execution_count": 141,
      "outputs": [
        {
          "output_type": "stream",
          "text": [
            "Обучение...\n",
            " [ 1000 / 1000 ] 100% - 0:00:00 left \n",
            " quantization error: 0.03703832115246374\n",
            "\n",
            "...готово!\n"
          ],
          "name": "stdout"
        },
        {
          "output_type": "display_data",
          "data": {
            "image/png": "[encoded data removed]",
            "text/plain": [
              "<Figure size 504x504 with 2 Axes>"
            ]
          },
          "metadata": {
            "tags": [],
            "needs_background": "light"
          }
        }
      ]
    },
    {
      "cell_type": "markdown",
      "metadata": {
        "id": "R_5vwHQwly4z",
        "colab_type": "text"
      },
      "source": [
        "Распределение частот активации"
      ]
    },
    {
      "cell_type": "code",
      "metadata": {
        "id": "H-9sY5eMcX9E",
        "colab_type": "code",
        "colab": {
          "base_uri": "https://localhost:8080/",
          "height": 432
        },
        "outputId": "1688a2f7-ced7-467c-abab-9b71e68413a0"
      },
      "source": [
        "plt.figure(figsize=(8, 7))\n",
        "frequencies = som.activation_response(data)\n",
        "plt.pcolor(frequencies.T, cmap='CMRmap') \n",
        "plt.colorbar()\n",
        "plt.show()"
      ],
      "execution_count": 167,
      "outputs": [
        {
          "output_type": "display_data",
          "data": {
            "image/png": "[encoded data removed]",
            "text/plain": [
              "<Figure size 576x504 with 2 Axes>"
            ]
          },
          "metadata": {
            "tags": [],
            "needs_background": "light"
          }
        }
      ]
    },
    {
      "cell_type": "code",
      "metadata": {
        "id": "Uzf98Zt2pVlK",
        "colab_type": "code",
        "colab": {}
      },
      "source": [
        "import sys"
      ],
      "execution_count": 0,
      "outputs": []
    },
    {
      "cell_type": "markdown",
      "metadata": {
        "id": "6YLykBADsHrw",
        "colab_type": "text"
      },
      "source": [
        "Погрешность квантования (QE - Quantization Error) входных нейронов выражена, как Евклидова норма разности входных нейронов и модели нерона победителя"
      ]
    },
    {
      "cell_type": "code",
      "metadata": {
        "id": "dBB91BGAeQBJ",
        "colab_type": "code",
        "outputId": "e5641362-addf-482a-fb65-42469a6855db",
        "colab": {
          "base_uri": "https://localhost:8080/",
          "height": 296
        }
      },
      "source": [
        "Som = MiniSom(10, 20, 4, sigma=3., learning_rate=.7, neighborhood_function='gaussian', random_seed=10)\n",
        "som.pca_weights_init(data)\n",
        "max_iter = 50000\n",
        "q_error = []\n",
        "t_error = []\n",
        "iter_x = []\n",
        "for i in range(max_iter):\n",
        "    percent = 100*(i+1)/max_iter\n",
        "    rand_i = np.random.randint(len(data)) # This corresponds to train_random() method.\n",
        "    som.update(data[rand_i], som.winner(data[rand_i]), i, max_iter)\n",
        "    if (i+1) % 100 == 0:\n",
        "        q_error.append(som.quantization_error(data))\n",
        "        t_error.append(som.topographic_error(data))\n",
        "        iter_x.append(i)\n",
        "        sys.stdout.write(f'\\riteration={i:2d} status={percent:0.2f}%')\n",
        "        \n",
        "plt.plot(iter_x, q_error)\n",
        "plt.ylabel('quantization error')\n",
        "plt.xlabel('iteration index')"
      ],
      "execution_count": 168,
      "outputs": [
        {
          "output_type": "stream",
          "text": [
            "iteration=49999 status=100.00%"
          ],
          "name": "stdout"
        },
        {
          "output_type": "execute_result",
          "data": {
            "text/plain": [
              "Text(0.5, 0, 'iteration index')"
            ]
          },
          "metadata": {
            "tags": []
          },
          "execution_count": 168
        },
        {
          "output_type": "display_data",
          "data": {
            "image/png": "[encoded data removed]",
            "text/plain": [
              "<Figure size 432x288 with 1 Axes>"
            ]
          },
          "metadata": {
            "tags": [],
            "needs_background": "light"
          }
        }
      ]
    },
    {
      "cell_type": "code",
      "metadata": {
        "id": "PYhO860feqlv",
        "colab_type": "code",
        "colab": {
          "base_uri": "https://localhost:8080/",
          "height": 296
        },
        "outputId": "1ce1a488-04da-4759-d5d4-f1c9160a4cff"
      },
      "source": [
        "plt.plot(iter_x, t_error)\n",
        "plt.ylabel('quantization error')\n",
        "plt.xlabel('iteration index')"
      ],
      "execution_count": 169,
      "outputs": [
        {
          "output_type": "execute_result",
          "data": {
            "text/plain": [
              "Text(0.5, 0, 'iteration index')"
            ]
          },
          "metadata": {
            "tags": []
          },
          "execution_count": 169
        },
        {
          "output_type": "display_data",
          "data": {
            "image/png": "[encoded data removed]",
            "text/plain": [
              "<Figure size 432x288 with 1 Axes>"
            ]
          },
          "metadata": {
            "tags": [],
            "needs_background": "light"
          }
        }
      ]
    }
  ]
}