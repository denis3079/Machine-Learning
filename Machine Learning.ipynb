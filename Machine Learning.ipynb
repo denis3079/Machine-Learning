{
  "nbformat": 4,
  "nbformat_minor": 0,
  "metadata": {
    "colab": {
      "name": "Copy of Copy of Untitled0.ipynb",
      "provenance": [],
      "authorship_tag": "ABX9TyPxxzzvK+nM20tvMXAE4M9f",
      "include_colab_link": true
    },
    "kernelspec": {
      "name": "python3",
      "display_name": "Python 3"
    }
  },
  "cells": [
    {
      "cell_type": "markdown",
      "metadata": {
        "id": "view-in-github",
        "colab_type": "text"
      },
      "source": [
        "<a href=\"https://colab.research.google.com/github/denis3079/Machine-Learning/blob/master/Machine%20Learning.ipynb\" target=\"_parent\"><img src=\"https://colab.research.google.com/assets/colab-badge.svg\" alt=\"Open In Colab\"/></a>"
      ]
    },
    {
      "cell_type": "code",
      "metadata": {
        "id": "sUF1nDN7j1el",
        "colab_type": "code",
        "outputId": "ad88c482-62b6-4c35-e95f-d4b5aab62795",
        "colab": {
          "base_uri": "https://localhost:8080/",
          "height": 50
        }
      },
      "source": [
        "import csv\n",
        "import random\n",
        "\n",
        "FILENAME = \"2020-02-25.csv\"\n",
        "\n",
        "records=100\n",
        "print(\"Making %d records\\n\" % records)\n",
        "\n",
        "fieldnames=['ID_Client', 'UnixTime', 'Latitude', 'Longitude', 'Heading', 'Speed', 'ForwardAcceleration', 'BackwardAcceleration', \n",
        "\t'LeftAcceleration', 'RightAcceleration', 'Pavement', 'Visibility', 'Wind', 'Accidents', 'RegionId', 'IsUrban', \n",
        "\t'SpeedLimit', 'SafetyObjects']\n",
        "writer = csv.DictWriter(open(FILENAME, \"w\"), fieldnames=fieldnames)\n",
        "\n",
        "Pavement=['Macadam', 'Gravel', 'Asphalt', 'Concrete', 'Sand', 'Grit']\n",
        "Visibility=['Fog', 'Smoke', 'Mist', 'Toman', 'Sunny', 'Clear weather']\n",
        "IsUrban=['Moscow', 'Krasnodar', 'Tyumen', 'Permian', 'Kuzbass', 'Chelyabinsk', 'Surgut', 'Novorossiysk', 'Chita', 'Krasnoyarsk']\n",
        "SpeedLimit=['20', '40', '50', '60', '70', '80', '90', '100']\n",
        "SafetyObjects=['Gas stations', 'Reservoir park', 'Gas pipelines', 'Railway station', 'Train stations', 'Subway']\n",
        "\n",
        "writer.writerow(dict(zip(fieldnames, fieldnames)))\n",
        "for i in range(0, records):\n",
        "  writer.writerow(dict([\n",
        "    ('ID_Client', i),\n",
        "    ('UnixTime', str(random.randint(00, 12))),\n",
        "    ('Latitude', str(random.randint(54, 56))),\n",
        "    ('Longitude', str(random.randint(36, 37))),\n",
        "    ('Heading', str(random.randint(50, 300))),\n",
        "    ('Speed', str(random.randint(10, 90))),\n",
        "    ('ForwardAcceleration', str(random.randint(1, 40))),\n",
        "    ('BackwardAcceleration', str(random.randint(0, 10))),\n",
        "    ('LeftAcceleration', str(random.randint(1, 30))),\n",
        "    ('RightAcceleration', str(random.randint(1, 30))),\n",
        "    ('Pavement', random.choice(Pavement)),\n",
        "    ('Visibility', random.choice(Visibility)),\n",
        "    ('Wind', str(random.randint(0, 30))),\n",
        "    ('Accidents', str(random.randint(0, 10))),\n",
        "    ('RegionId', str(random.randint(1, 89))),\n",
        "    ('IsUrban', random.choice(IsUrban)),\n",
        "    ('SpeedLimit', random.choice(SpeedLimit)),\n",
        "    ('SafetyObjects', random.choice(SafetyObjects))]))"
      ],
      "execution_count": 2,
      "outputs": [
        {
          "output_type": "stream",
          "text": [
            "Making 100 records\n",
            "\n"
          ],
          "name": "stdout"
        }
      ]
    },
    {
      "cell_type": "markdown",
      "metadata": {
        "id": "wvombyFommSA",
        "colab_type": "text"
      },
      "source": [
        "# New Section"
      ]
    },
    {
      "cell_type": "code",
      "metadata": {
        "id": "PFunPjpFnC8f",
        "colab_type": "code",
        "colab": {}
      },
      "source": [
        ""
      ],
      "execution_count": 0,
      "outputs": []
    },
    {
      "cell_type": "markdown",
      "metadata": {
        "id": "pLNHmty_nDP_",
        "colab_type": "text"
      },
      "source": [
        ""
      ]
    },
    {
      "cell_type": "code",
      "metadata": {
        "id": "gYq6vkCom34R",
        "colab_type": "code",
        "colab": {}
      },
      "source": [
        "from google.colab import drive\n",
        "drive.mount('/content/drive')"
      ],
      "execution_count": 0,
      "outputs": []
    },
    {
      "cell_type": "markdown",
      "metadata": {
        "id": "hDxi-4t_kfJ6",
        "colab_type": "text"
      },
      "source": [
        "1. Сформировать «тестовый» небольшой DataSet (~ 100 клиентов). Каждый формирует самостоятельно, потом выбирается лучший.\n",
        "Необхожимо сформировать один Dataset-файл о 100 клиентах.\n",
        "Каждая запись  в Dataset будет относиться к одному клиенту и содержать усредненные данные, т.е в DATASET будет 100 строк!"
      ]
    },
    {
      "cell_type": "code",
      "metadata": {
        "id": "gXSfIuPDlBTt",
        "colab_type": "code",
        "colab": {}
      },
      "source": [
        ""
      ],
      "execution_count": 0,
      "outputs": []
    },
    {
      "cell_type": "markdown",
      "metadata": {
        "id": "i2zPgRXKlCPu",
        "colab_type": "text"
      },
      "source": [
        ""
      ]
    }
  ]
}